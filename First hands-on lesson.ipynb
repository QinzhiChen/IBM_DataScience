{
    "cells": [
        {
            "cell_type": "markdown",
            "metadata": {
                "collapsed": true
            },
            "source": "# My Jupyter Notebook on IBM Watson Studio"
        },
        {
            "cell_type": "markdown",
            "metadata": {},
            "source": "**Qin** "
        },
        {
            "cell_type": "markdown",
            "metadata": {},
            "source": "wants to become a data analyst "
        },
        {
            "cell_type": "markdown",
            "metadata": {},
            "source": "*I am interested in data science because i like logical thinking and like analytical job*"
        },
        {
            "cell_type": "markdown",
            "metadata": {},
            "source": "### I am going to use 1+1 equation"
        },
        {
            "cell_type": "code",
            "execution_count": 4,
            "metadata": {},
            "outputs": [
                {
                    "data": {
                        "text/plain": "2"
                    },
                    "execution_count": 4,
                    "metadata": {},
                    "output_type": "execute_result"
                }
            ],
            "source": "1+1"
        },
        {
            "cell_type": "markdown",
            "metadata": {},
            "source": "***\nThis is Horizontal Line"
        },
        {
            "cell_type": "markdown",
            "metadata": {},
            "source": "1. numbered list\n    2. second list"
        },
        {
            "cell_type": "markdown",
            "metadata": {},
            "source": "- bulleted item"
        },
        {
            "cell_type": "markdown",
            "metadata": {},
            "source": ">indenting"
        },
        {
            "cell_type": "code",
            "execution_count": null,
            "metadata": {},
            "outputs": [],
            "source": ""
        }
    ],
    "metadata": {
        "kernelspec": {
            "display_name": "Python 3.9",
            "language": "python",
            "name": "python3"
        },
        "language_info": {
            "codemirror_mode": {
                "name": "ipython",
                "version": 3
            },
            "file_extension": ".py",
            "mimetype": "text/x-python",
            "name": "python",
            "nbconvert_exporter": "python",
            "pygments_lexer": "ipython3",
            "version": "3.9.12"
        }
    },
    "nbformat": 4,
    "nbformat_minor": 1
}